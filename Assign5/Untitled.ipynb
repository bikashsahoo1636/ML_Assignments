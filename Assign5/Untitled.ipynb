{
 "cells": [
  {
   "cell_type": "code",
   "execution_count": 1,
   "metadata": {
    "collapsed": true
   },
   "outputs": [],
   "source": [
    "import random\n",
    "import math\n",
    "import pandas as pd\n",
    "import numpy as np\n",
    "from sklearn.preprocessing import StandardScaler\n",
    "from sklearn.svm import SVC\n",
    "\n",
    "fid = open(\"spambase.data\", \"r\")\n",
    "li = fid.readlines()\n",
    "fid.close()\n",
    "\n",
    "random.shuffle(li)\n",
    "\n",
    "\n",
    "train=li[:int(len(li)*.7)]\n",
    "test=li[int(len(li)*.7):]\n",
    "scaler = StandardScaler()\n",
    "\n",
    "fid = open(\"train.csv\", \"w\")\n",
    "fid.writelines(train)\n",
    "fid.close()\n",
    "\n",
    "fid = open(\"test.csv\", \"w\")\n",
    "fid.writelines(test)\n",
    "fid.close()\n"
   ]
  },
  {
   "cell_type": "code",
   "execution_count": 2,
   "metadata": {
    "collapsed": true
   },
   "outputs": [],
   "source": [
    "df1=pd.read_csv(\"train.csv\", header=None)\n",
    "df2=pd.read_csv(\"test.csv\", header=None)\n",
    "\n",
    "df3=df1[df1.columns[-1]]\n",
    "df4=df1[df1.columns[:-1]]\n",
    "\n",
    "df5=df2[df2.columns[-1]]\n",
    "df6=df2[df2.columns[:-1]]\n",
    "\n",
    "input_train=scaler.fit_transform(df4)\n",
    "input_test=scaler.transform(df6)\n",
    "output_train=np.asmatrix(df3)"
   ]
  },
  {
   "cell_type": "code",
   "execution_count": 3,
   "metadata": {},
   "outputs": [
    {
     "name": "stdout",
     "output_type": "stream",
     "text": [
      "(3220, 57) (3220, 1)\n"
     ]
    }
   ],
   "source": [
    "output_train=np.array(output_train[0])\n",
    "output_train=output_train.T\n",
    "print(input_train.shape,output_train.shape)"
   ]
  },
  {
   "cell_type": "code",
   "execution_count": 4,
   "metadata": {},
   "outputs": [
    {
     "name": "stdout",
     "output_type": "stream",
     "text": [
      "[[-0.34182211 -0.16676646 -0.54648646 ..., -0.09224933 -0.22183874\n",
      "  -0.42729502]\n",
      " [-0.34182211 -0.16676646 -0.54648646 ..., -0.06315988 -0.18577719\n",
      "  -0.35377682]\n",
      " [-0.34182211 -0.16676646 -0.54648646 ..., -0.12522456 -0.23986952\n",
      "  -0.45126835]\n",
      " ..., \n",
      " [-0.34182211 -0.16676646 -0.54648646 ..., -0.10255746 -0.20831566\n",
      "  -0.32980349]\n",
      " [-0.34182211 -0.16676646  0.29433498 ..., -0.06089317 -0.14971564\n",
      "  -0.0373289 ]\n",
      " [ 1.03289294 -0.16676646 -0.54648646 ..., -0.09894152 -0.16323872\n",
      "  -0.33619638]]\n"
     ]
    }
   ],
   "source": [
    "print(input_test)\n",
    "# print(df4)"
   ]
  },
  {
   "cell_type": "code",
   "execution_count": 13,
   "metadata": {},
   "outputs": [
    {
     "name": "stderr",
     "output_type": "stream",
     "text": [
      "C:\\ProgramData\\Anaconda3\\lib\\site-packages\\sklearn\\utils\\validation.py:578: DataConversionWarning: A column-vector y was passed when a 1d array was expected. Please change the shape of y to (n_samples, ), for example using ravel().\n",
      "  y = column_or_1d(y, warn=True)\n"
     ]
    },
    {
     "name": "stdout",
     "output_type": "stream",
     "text": [
      "1 0.832005792903693\n",
      "2 0.8718320057929037\n",
      "3 0.8848660391020999\n",
      "4 0.8950036205648081\n",
      "5 0.8971759594496742\n",
      "6 0.9007965242577842\n",
      "7 0.9022447501810282\n",
      "8 0.9080376538740044\n",
      "9 0.9109341057204924\n",
      "10 0.9160028964518465\n",
      "11 0.9152787834902245\n",
      "12 0.9181752353367125\n",
      "13 0.9181752353367125\n",
      "14 0.9210716871832005\n",
      "15 0.9210716871832005\n",
      "16 0.9217958001448225\n",
      "17 0.9225199131064445\n",
      "18 0.9217958001448225\n",
      "19 0.9217958001448225\n",
      "20 0.9225199131064445\n",
      "21 0.9225199131064445\n",
      "22 0.9225199131064445\n",
      "23 0.9225199131064445\n",
      "24 0.9203475742215785\n",
      "25 0.9217958001448225\n",
      "26 0.9196234612599565\n",
      "27 0.9196234612599565\n",
      "28 0.9203475742215785\n",
      "29 0.9210716871832005\n",
      "30 0.9203475742215785\n",
      "31 0.9203475742215785\n",
      "32 0.9217958001448225\n",
      "33 0.9217958001448225\n",
      "34 0.9217958001448225\n",
      "35 0.9225199131064445\n",
      "36 0.9232440260680667\n",
      "37 0.9232440260680667\n",
      "38 0.9232440260680667\n",
      "39 0.9225199131064445\n",
      "40 0.9217958001448225\n",
      "41 0.9217958001448225\n",
      "42 0.9203475742215785\n",
      "43 0.9217958001448225\n",
      "44 0.9217958001448225\n",
      "45 0.9210716871832005\n",
      "46 0.9210716871832005\n",
      "47 0.9210716871832005\n",
      "48 0.9210716871832005\n",
      "49 0.9203475742215785\n",
      "50 0.9210716871832005\n",
      "51 0.9210716871832005\n",
      "52 0.9196234612599565\n",
      "53 0.9196234612599565\n",
      "54 0.9188993482983345\n",
      "55 0.9181752353367125\n",
      "56 0.9181752353367125\n",
      "57 0.9181752353367125\n",
      "58 0.9188993482983345\n",
      "59 0.9188993482983345\n",
      "60 0.9188993482983345\n",
      "61 0.9188993482983345\n",
      "62 0.9188993482983345\n",
      "63 0.9188993482983345\n",
      "64 0.9196234612599565\n",
      "65 0.9196234612599565\n",
      "66 0.9188993482983345\n",
      "67 0.9181752353367125\n",
      "68 0.9196234612599565\n",
      "69 0.9203475742215785\n",
      "70 0.9196234612599565\n",
      "71 0.9196234612599565\n",
      "72 0.9196234612599565\n",
      "73 0.9196234612599565\n",
      "74 0.9196234612599565\n",
      "75 0.9196234612599565\n",
      "76 0.9196234612599565\n",
      "77 0.9196234612599565\n",
      "78 0.9196234612599565\n",
      "79 0.9188993482983345\n",
      "0.9232440260680667\n"
     ]
    }
   ],
   "source": [
    "ans = []\n",
    "for c in np.arange(1, 80, 1):\n",
    "\tclf=SVC(C=c, gamma='auto', kernel='poly', degree=2)\n",
    "\tclf.fit(input_train,output_train)\n",
    "\tpredict_test=clf.predict(input_test)\n",
    "\toutput_test=np.ravel(df5)\n",
    "\n",
    "\ts=0\n",
    "\tfor i in range(len(output_test)):\n",
    "\t\ts+=math.fabs(output_test[i]-predict_test[i])\n",
    "\tab = 1 - s/len(output_test)\n",
    "\tans.append(ab)\n",
    "\tprint(c, ab)\n",
    "print(max(ans))"
   ]
  },
  {
   "cell_type": "code",
   "execution_count": null,
   "metadata": {
    "collapsed": true
   },
   "outputs": [],
   "source": []
  }
 ],
 "metadata": {
  "kernelspec": {
   "display_name": "Python 3",
   "language": "python",
   "name": "python3"
  },
  "language_info": {
   "codemirror_mode": {
    "name": "ipython",
    "version": 3
   },
   "file_extension": ".py",
   "mimetype": "text/x-python",
   "name": "python",
   "nbconvert_exporter": "python",
   "pygments_lexer": "ipython3",
   "version": "3.6.3"
  }
 },
 "nbformat": 4,
 "nbformat_minor": 2
}
